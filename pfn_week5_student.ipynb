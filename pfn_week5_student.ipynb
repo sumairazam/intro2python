{
 "cells": [
  {
   "cell_type": "markdown",
   "metadata": {
    "id": "wfi8UrCL3FZP"
   },
   "source": [
    "### Week 4 (continued) - HM"
   ]
  },
  {
   "cell_type": "markdown",
   "metadata": {
    "id": "CnlV8PVo_S0P"
   },
   "source": [
    "## Enumerate\n",
    "\n",
    "Enumerate lets you access both the index and the item itself for an item in a list -- this is useful when you want access to both the item and the index of that item in the body of the loop. You can always access the item by using `item = list[index]` but enumerate lets you shorten this."
   ]
  },
  {
   "cell_type": "code",
   "execution_count": null,
   "metadata": {
    "id": "mj8rJu7c_Quv"
   },
   "outputs": [],
   "source": [
    "# define a dictionary\n",
    "expat = {\n",
    "    \"appetizer\": ['cauliflower wings', 'tater tots'],\n",
    "    \"main\": ['curry', 'burger'],\n",
    "    \"dessert\": ['ice cream', 'pastry']\n",
    "\n",
    "}"
   ]
  },
  {
   "cell_type": "code",
   "execution_count": null,
   "metadata": {
    "id": "PeTfoDpA3FZU"
   },
   "outputs": [],
   "source": [
    "for item in expat:\n",
    "    print(item)"
   ]
  },
  {
   "cell_type": "code",
   "execution_count": null,
   "metadata": {
    "id": "9tR3EdVB_W-v"
   },
   "outputs": [],
   "source": [
    "for item in expat[\"appetizer\"]:\n",
    "  print(item)"
   ]
  },
  {
   "cell_type": "code",
   "execution_count": null,
   "metadata": {
    "id": "hmISpZPI_VTP"
   },
   "outputs": [],
   "source": [
    "# What if we want both the index and the value at that index for a list?\n",
    "for i in range(len(expat[\"appetizer\"])):\n",
    "  print(i, expat[\"appetizer\"][i])"
   ]
  },
  {
   "cell_type": "code",
   "execution_count": null,
   "metadata": {
    "id": "PKbsVzlR_Yyd"
   },
   "outputs": [],
   "source": [
    "# Enumerate lets us get both at the same time elegantly!\n",
    "for i, item in enumerate(expat[\"appetizer\"]):\n",
    "  print(i, item)"
   ]
  },
  {
   "cell_type": "code",
   "execution_count": null,
   "metadata": {
    "id": "KiVTPBit_agf"
   },
   "outputs": [],
   "source": [
    "# We can also use enumerate with the dictionary to number (key, value) pairs.\n",
    "for i, (key, value) in enumerate(expat.items()):\n",
    "  print(i, key, value)"
   ]
  },
  {
   "cell_type": "markdown",
   "metadata": {
    "id": "yyxCguLM_gae"
   },
   "source": [
    "### Exercise:\n",
    "\n",
    "Can you use a for loop with enumerate to remove all odd numbers from `evens`, so that `evens` contains all the even digits? Use `pop` or `del`, don't use `remove` for this.\n",
    "\n",
    "**Reminder:** The pop() function removes the last element or the element based on the index given. remove() function removes the first occurrence of the specified element. The del keyword removes the element specified by the index."
   ]
  },
  {
   "cell_type": "code",
   "execution_count": null,
   "metadata": {
    "id": "38LpGBRDVqAm"
   },
   "outputs": [],
   "source": [
    "evens = list(range(1,10))\n",
    "evens = [i for i in range(1,8)]\n",
    "print(evens)\n",
    "    "
   ]
  },
  {
   "cell_type": "code",
   "execution_count": null,
   "metadata": {},
   "outputs": [],
   "source": [
    "for i, val in enumerate(evens):\n",
    "    if val%2!=0:\n",
    "        del evens(i)\n",
    "print evens"
   ]
  },
  {
   "cell_type": "markdown",
   "metadata": {
    "id": "T7qaN74zAzyL"
   },
   "source": [
    "# While loops\n",
    "\n",
    "While loops, unlike for loops, will iterate indefinitely, until the condition following the while is False. You might want to do this if you are using an iterative algorithm where you want the performance to get above a certain level before stopping, for example with machine learning (more on this later)."
   ]
  },
  {
   "cell_type": "code",
   "execution_count": null,
   "metadata": {
    "id": "-vxJkytt3FZV"
   },
   "outputs": [],
   "source": [
    "i = 0\n",
    "while i<10:\n",
    "    print(i)\n",
    "    i = i + 1"
   ]
  },
  {
   "cell_type": "code",
   "execution_count": null,
   "metadata": {
    "id": "tYAJAj7r3FZW"
   },
   "outputs": [],
   "source": [
    "for i in range(10):\n",
    "    print(i)\n",
    "#dont do this without specificying a condition or it will just run forever. "
   ]
  },
  {
   "cell_type": "code",
   "execution_count": null,
   "metadata": {
    "id": "a1LkUiWn_kzk"
   },
   "outputs": [],
   "source": [
    "# While loops\n",
    "# find largest power of 2 less than 9000\n",
    "power = 0\n",
    "while 2**power < 9000:\n",
    "  power +=1\n",
    "power-=1\n",
    "print(2**power)"
   ]
  },
  {
   "cell_type": "markdown",
   "metadata": {
    "id": "8T82jN-OA6ES"
   },
   "source": [
    "If you put a condition that is never False, your code may run indefinitely, and you may have to interrupt your kernel to get it to stop."
   ]
  },
  {
   "cell_type": "code",
   "execution_count": null,
   "metadata": {
    "id": "bG5S-RUZBCtD"
   },
   "outputs": [],
   "source": [
    "i=0\n",
    "while i < 10:\n",
    "  print(i)"
   ]
  },
  {
   "cell_type": "markdown",
   "metadata": {
    "id": "0sPwWNa9BEXx"
   },
   "source": [
    "## Exercise:\n",
    "The Collatz sequence begins with some starting number. Given its previous number $n$, it generates the next number based on the following rule: if $n$ is even, the next number is $n/2$. If $n$ is odd, the next number is $3n+1$.\n",
    "\n",
    "Write some code below that generates the Collatz sequence for a starting number of $27$ until the number hits $1$."
   ]
  },
  {
   "cell_type": "code",
   "execution_count": 6,
   "metadata": {
    "id": "EuQ_osmLA9mI"
   },
   "outputs": [
    {
     "ename": "IndentationError",
     "evalue": "expected an indented block (77014268.py, line 9)",
     "output_type": "error",
     "traceback": [
      "\u001b[0;36m  Input \u001b[0;32mIn [6]\u001b[0;36m\u001b[0m\n\u001b[0;31m    n = int(n/2)\u001b[0m\n\u001b[0m                ^\u001b[0m\n\u001b[0;31mIndentationError\u001b[0m\u001b[0;31m:\u001b[0m expected an indented block\n"
     ]
    }
   ],
   "source": [
    "# Collatz sequence\n",
    "n = 27\n",
    "L = []\n",
    "L.append(n)\n",
    "while n !=1:\n",
    "    \n",
    "    if n%2 == 0:\n",
    "    \n",
    "n = int(n/2)\n",
    "    \n",
    "    else:\n",
    "        n = 3*n+1\n",
    "        \n",
    "    L.append(n)\n",
    "L\n"
   ]
  },
  {
   "cell_type": "markdown",
   "metadata": {
    "id": "425r6g5gBLt8"
   },
   "source": [
    "# Break and Continue\n",
    "\n",
    "`break` and `continue` are statements that can be used within loops.\n",
    "\n",
    "When code reaches a `continue` statement, it jumps to the next iteration of the loop without running the rest of the code in the loop.\n",
    "\n",
    "When code reaches a `break` statement it jumps outside the loop (skipping any remaining iterations) without running the rest of the code in the loop.\n",
    "\n",
    "A `pass` statement, finally is completely ignored. This is useful when code is required syntactically, but you don't actually want to run anything there.\n",
    "\n",
    "For these statements it may not be entirely clear right now what their purpose is, but they become particularly useful in managing more complex code."
   ]
  },
  {
   "cell_type": "code",
   "execution_count": null,
   "metadata": {},
   "outputs": [],
   "source": [
    "i =0\n",
    "while(i < 1):\n",
    "    "
   ]
  },
  {
   "cell_type": "code",
   "execution_count": 7,
   "metadata": {
    "id": "bAP5dWEWBQFD"
   },
   "outputs": [
    {
     "name": "stdout",
     "output_type": "stream",
     "text": [
      "New loop\n",
      "0\n",
      "New loop\n",
      "1\n",
      "New loop\n",
      "2\n",
      "New loop\n",
      "3\n",
      "New loop\n",
      "4\n",
      "New loop\n"
     ]
    }
   ],
   "source": [
    "for i in range(10):\n",
    "  print('New loop')\n",
    "  if i==5:\n",
    "    break # Leaves the loop completely once it encounters this statement\n",
    "  print(i)"
   ]
  },
  {
   "cell_type": "code",
   "execution_count": 8,
   "metadata": {
    "id": "mQxP5ykrBSOd"
   },
   "outputs": [
    {
     "name": "stdout",
     "output_type": "stream",
     "text": [
      "New loop\n",
      "0\n",
      "New loop\n",
      "1\n",
      "New loop\n",
      "2\n",
      "New loop\n",
      "3\n",
      "New loop\n",
      "4\n",
      "New loop\n",
      "5\n",
      "New loop\n",
      "6\n",
      "New loop\n",
      "7\n",
      "New loop\n",
      "8\n",
      "New loop\n",
      "9\n"
     ]
    }
   ],
   "source": [
    "for i in range(10):\n",
    "  print('New loop')\n",
    "  if i==5:\n",
    "    pass # Leaves the loop completely once it encounters this statement\n",
    "  print(i)"
   ]
  },
  {
   "cell_type": "code",
   "execution_count": 9,
   "metadata": {
    "id": "74DeTEeXBI_g"
   },
   "outputs": [
    {
     "name": "stdout",
     "output_type": "stream",
     "text": [
      "New loop\n",
      "New loop\n",
      "1\n",
      "New loop\n",
      "New loop\n",
      "3\n",
      "New loop\n",
      "New loop\n",
      "5\n",
      "New loop\n",
      "New loop\n",
      "7\n",
      "New loop\n",
      "New loop\n",
      "9\n"
     ]
    }
   ],
   "source": [
    "for i in range(10):\n",
    "  print('New loop')\n",
    "  if i%2==0:\n",
    "    continue\n",
    "  print(i) # This command is skipped for all even numbers"
   ]
  },
  {
   "cell_type": "markdown",
   "metadata": {
    "id": "6bLeLWZuBVYB"
   },
   "source": [
    "## Exercises\n",
    "\n",
    "1. Fix this code so it runs."
   ]
  },
  {
   "cell_type": "code",
   "execution_count": 11,
   "metadata": {
    "id": "S3lyE6d13FZX"
   },
   "outputs": [
    {
     "name": "stdout",
     "output_type": "stream",
     "text": [
      "0\n",
      "1\n",
      "2\n",
      "3\n",
      "4\n",
      "5\n",
      "6\n",
      "7\n",
      "8\n",
      "9\n"
     ]
    }
   ],
   "source": [
    "for i in range(10):\n",
    "    print (i)"
   ]
  },
  {
   "cell_type": "markdown",
   "metadata": {
    "id": "ovV1aq2iBZ66"
   },
   "source": [
    "2. Add something we just learned about to this code so the last thing it prints is 10."
   ]
  },
  {
   "cell_type": "code",
   "execution_count": 20,
   "metadata": {
    "id": "7ngxuj1KBYuH"
   },
   "outputs": [
    {
     "name": "stdout",
     "output_type": "stream",
     "text": [
      "15\n",
      "14\n",
      "13\n",
      "12\n",
      "11\n",
      "10\n"
     ]
    }
   ],
   "source": [
    "for i in range(15,-1,-1):\n",
    "    print(i)\n",
    "    if i ==10:break"
   ]
  },
  {
   "cell_type": "markdown",
   "metadata": {
    "id": "1CLlFR9OBhWC"
   },
   "source": [
    "3. Add something we just learned to the below code so it doesn't print multiples of 3\n"
   ]
  },
  {
   "cell_type": "code",
   "execution_count": 22,
   "metadata": {
    "id": "LdjD1tOMBdjk"
   },
   "outputs": [
    {
     "name": "stdout",
     "output_type": "stream",
     "text": [
      "1\n",
      "2\n",
      "4\n",
      "5\n",
      "7\n",
      "8\n"
     ]
    }
   ],
   "source": [
    "for i in range(10):\n",
    "    if i%3==0:\n",
    "        continue\n",
    "    print(i)"
   ]
  },
  {
   "cell_type": "markdown",
   "metadata": {
    "id": "oeEiJMgxBnJh"
   },
   "source": [
    "# Functions\n",
    "\n",
    "Currently, you are writing code simply by defining code that will be executed immediately. As you create larger codebases and share them with other people, it will be important for you to structure your code in functions: structure which execute a certain piece of code.\n",
    "\n",
    "For example, the Fibonacci sequence starts with $x_0=0$ and $x_1=1$. We then define $x_{j+2}=x_j+x_{j+1}$. The following functions prints out each value of the Fibonacci sequence until some value $n$.\n",
    "\n",
    "You can recognize functions by the `def` symbol in the beginning. `fibonacci` is the function's name and the variable in parentheses afterwards is an argument provided to the function. (Multiple arguments would be separated by commas.)\n"
   ]
  },
  {
   "cell_type": "code",
   "execution_count": 23,
   "metadata": {
    "id": "m1hs159wBmGc"
   },
   "outputs": [],
   "source": [
    "def fibonacci(n):\n",
    "  \"\"\"\n",
    "  Print fibonnacci series up to n.\n",
    "  Args:\n",
    "      n (int): Maximum value of the fibonacci series to print.\n",
    "  \"\"\"\n",
    "  a,b = 0, 1\n",
    "  while a <n:\n",
    "    print(a)\n",
    "    next= a+b\n",
    "    a = b\n",
    "    b = next"
   ]
  },
  {
   "cell_type": "code",
   "execution_count": 24,
   "metadata": {
    "id": "GwHQSVH9Bslj"
   },
   "outputs": [
    {
     "name": "stdout",
     "output_type": "stream",
     "text": [
      "0\n",
      "1\n",
      "1\n",
      "2\n",
      "3\n",
      "5\n",
      "8\n",
      "13\n",
      "21\n",
      "34\n",
      "55\n",
      "89\n",
      "144\n",
      "233\n",
      "377\n",
      "610\n",
      "987\n",
      "1597\n",
      "2584\n"
     ]
    }
   ],
   "source": [
    "fibonacci (3000)"
   ]
  },
  {
   "cell_type": "code",
   "execution_count": 25,
   "metadata": {
    "id": "RhTLplvXBuh8"
   },
   "outputs": [
    {
     "name": "stdout",
     "output_type": "stream",
     "text": [
      "Help on function fibonacci in module __main__:\n",
      "\n",
      "fibonacci(n)\n",
      "    Print fibonnacci series up to n.\n",
      "    Args:\n",
      "        n (int): Maximum value of the fibonacci series to print.\n",
      "\n"
     ]
    }
   ],
   "source": [
    "help(fibonacci)"
   ]
  },
  {
   "cell_type": "markdown",
   "metadata": {
    "id": "LczLpH5GBy_f"
   },
   "source": [
    "## Exercise\n",
    "\n",
    "Write a function (called `collatz`) that takes in a starting value and prints out each value of the Collatz sequence. As a reminder, the rule was:\n",
    "- if the previous value $n$ was even, the next value is $n/2$.\n",
    "- if the previous value was odd, the next value is $3n+1$.\n",
    "Let the function end when the value taken is $1$."
   ]
  },
  {
   "cell_type": "code",
   "execution_count": 30,
   "metadata": {
    "id": "GlFUahxvBx62"
   },
   "outputs": [],
   "source": [
    "def collatz(n):\n",
    "    while n !=1:\n",
    "        if n%2 == 0:\n",
    "            n = int(n/2)\n",
    "        else:\n",
    "            n = 3*n+1\n",
    "        print(n)"
   ]
  },
  {
   "cell_type": "code",
   "execution_count": 31,
   "metadata": {
    "id": "OAoG3UELB5ny"
   },
   "outputs": [
    {
     "name": "stdout",
     "output_type": "stream",
     "text": [
      "16\n",
      "8\n",
      "4\n",
      "2\n",
      "1\n"
     ]
    }
   ],
   "source": [
    "collatz(5)"
   ]
  },
  {
   "cell_type": "markdown",
   "metadata": {
    "id": "HR7gvMeGB_Xq"
   },
   "source": [
    "## return\n",
    "\n",
    "The return sequence leaves the function and returns any variable coming afterwards."
   ]
  },
  {
   "cell_type": "code",
   "execution_count": 32,
   "metadata": {
    "id": "fm6KT6MUB8Zd"
   },
   "outputs": [],
   "source": [
    "def fib_return (n):\n",
    "  \"\"\"\n",
    "  Print fibonnacci series up to n.\n",
    "  Args:\n",
    "      n (int): Maximum value of the fibonacci series to return.\n",
    "  Returns:\n",
    "      list: List of fibonacci sequence values\n",
    "  \"\"\"\n",
    "\n",
    "  fib_list = []\n",
    "  a,b = 0, 1\n",
    "  while a <n:\n",
    "    fib_list.append(a)\n",
    "    next= a+b\n",
    "    a = b\n",
    "    b = next\n",
    "  return fib_list"
   ]
  },
  {
   "cell_type": "code",
   "execution_count": 34,
   "metadata": {
    "id": "E-ny6eM8CF6C"
   },
   "outputs": [
    {
     "name": "stdout",
     "output_type": "stream",
     "text": [
      "[0, 1, 1, 2, 3, 5, 8, 13, 21, 34, 55, 89, 144, 233, 377, 610, 987]\n"
     ]
    }
   ],
   "source": [
    "print(fib_return(1000))\n",
    "i = 0"
   ]
  },
  {
   "cell_type": "code",
   "execution_count": 35,
   "metadata": {
    "id": "9qpbj7YaCHke"
   },
   "outputs": [],
   "source": [
    "my_fib_list = fib_return(1000)"
   ]
  },
  {
   "cell_type": "code",
   "execution_count": 36,
   "metadata": {
    "id": "HPTRBcdhCJcL"
   },
   "outputs": [
    {
     "data": {
      "text/plain": [
       "[0, 1, 1, 2, 3, 5, 8, 13, 21, 34, 55, 89, 144, 233, 377, 610, 987]"
      ]
     },
     "execution_count": 36,
     "metadata": {},
     "output_type": "execute_result"
    }
   ],
   "source": [
    "my_fib_list"
   ]
  },
  {
   "cell_type": "markdown",
   "metadata": {
    "id": "sRln9IGJCL_s"
   },
   "source": [
    "## Default arguments"
   ]
  },
  {
   "cell_type": "code",
   "execution_count": 37,
   "metadata": {
    "id": "uxXoul6RCK7w"
   },
   "outputs": [
    {
     "ename": "TypeError",
     "evalue": "fib_return() missing 1 required positional argument: 'n'",
     "output_type": "error",
     "traceback": [
      "\u001b[0;31m---------------------------------------------------------------------------\u001b[0m",
      "\u001b[0;31mTypeError\u001b[0m                                 Traceback (most recent call last)",
      "Input \u001b[0;32mIn [37]\u001b[0m, in \u001b[0;36m<cell line: 2>\u001b[0;34m()\u001b[0m\n\u001b[1;32m      1\u001b[0m \u001b[38;5;66;03m# We cannot run fib_return without specifying n:\u001b[39;00m\n\u001b[0;32m----> 2\u001b[0m \u001b[43mfib_return\u001b[49m\u001b[43m(\u001b[49m\u001b[43m)\u001b[49m\n",
      "\u001b[0;31mTypeError\u001b[0m: fib_return() missing 1 required positional argument: 'n'"
     ]
    }
   ],
   "source": [
    "# We cannot run fib_return without specifying n:\n",
    "fib_return()"
   ]
  },
  {
   "cell_type": "code",
   "execution_count": 38,
   "metadata": {
    "id": "-V835vQjCQGR"
   },
   "outputs": [],
   "source": [
    "# Default arguments can be specified but don't have to be:\n",
    "def fib_return (n=1):\n",
    "  \"\"\"\n",
    "  Print fibonnacci series up to n.\n",
    "  Args:\n",
    "      n (int): Maximum value of the fibonacci series to return. Default value is 1.\n",
    "  Returns:\n",
    "      list: List of fibonacci sequence values\n",
    "  \"\"\"\n",
    "\n",
    "  fib_list = []\n",
    "  a,b = 0, 1\n",
    "  while a <n:\n",
    "    fib_list.append(a)\n",
    "    next= a+b\n",
    "    a = b\n",
    "    b = next\n",
    "  return fib_list"
   ]
  },
  {
   "cell_type": "code",
   "execution_count": 39,
   "metadata": {
    "id": "ebCLA2i0CTYR"
   },
   "outputs": [
    {
     "data": {
      "text/plain": [
       "[0]"
      ]
     },
     "execution_count": 39,
     "metadata": {},
     "output_type": "execute_result"
    }
   ],
   "source": [
    "fib_return()"
   ]
  },
  {
   "cell_type": "code",
   "execution_count": 40,
   "metadata": {
    "id": "xygNbCn2CVYb"
   },
   "outputs": [
    {
     "data": {
      "text/plain": [
       "[0, 1, 1, 2, 3, 5, 8]"
      ]
     },
     "execution_count": 40,
     "metadata": {},
     "output_type": "execute_result"
    }
   ],
   "source": [
    "fib_return(10)"
   ]
  },
  {
   "cell_type": "markdown",
   "metadata": {
    "id": "e4xuXi9sCoRI"
   },
   "source": [
    "## Args and kwargs\n",
    "\n",
    "You can also use a piece of code that allows you to provide arbitrary arguments (with or without keywords) to your function. If you use `*args` as one of the arguments of your function, this will take any unnamed argument and put all of them in a tuple:"
   ]
  },
  {
   "cell_type": "code",
   "execution_count": 41,
   "metadata": {
    "id": "-AJXkppJCmyQ"
   },
   "outputs": [
    {
     "name": "stdout",
     "output_type": "stream",
     "text": [
      "1\n",
      "(2, 3)\n"
     ]
    }
   ],
   "source": [
    "def f(a, *args):\n",
    "  print(a)\n",
    "  print(args)\n",
    "f(1, 2, 3)"
   ]
  },
  {
   "cell_type": "code",
   "execution_count": 42,
   "metadata": {
    "id": "ga5hxQwRCwzP"
   },
   "outputs": [
    {
     "name": "stdout",
     "output_type": "stream",
     "text": [
      "1\n",
      "(2, 3, 4)\n"
     ]
    }
   ],
   "source": [
    "f(1, 2, 3, 4)"
   ]
  },
  {
   "cell_type": "code",
   "execution_count": 43,
   "metadata": {
    "id": "_ZLKOpPxCyjl"
   },
   "outputs": [
    {
     "name": "stdout",
     "output_type": "stream",
     "text": [
      "1\n",
      "(2, 3)\n",
      "1\n",
      "(2, 3, 4)\n"
     ]
    }
   ],
   "source": [
    "# The name args is not important\n",
    "def f(a, *variable):\n",
    "  print(a)\n",
    "  print(variable)\n",
    "f(1, 2, 3)\n",
    "f(1, 2, 3, 4)"
   ]
  },
  {
   "cell_type": "markdown",
   "metadata": {
    "id": "L3gIjQeUC2wT"
   },
   "source": [
    "Similarly, if you put two asterisks in front of your variable (e.g. ``**kwargs``), it will assign all names variables to kwargs (in a dictionary format)."
   ]
  },
  {
   "cell_type": "code",
   "execution_count": 44,
   "metadata": {
    "id": "chPFtWNmC0St"
   },
   "outputs": [
    {
     "name": "stdout",
     "output_type": "stream",
     "text": [
      "1\n",
      "{'b': 2, 'c': 3}\n"
     ]
    }
   ],
   "source": [
    "def f(a, **kwargs):\n",
    "  print(a)\n",
    "  print(kwargs)\n",
    "f(a=1, b=2, c=3)"
   ]
  },
  {
   "cell_type": "markdown",
   "metadata": {
    "id": "pCiQyoCcC_cH"
   },
   "source": [
    "Again, we're mostly explaining this so you are familiar with it later on, when it will become extremely useful."
   ]
  },
  {
   "cell_type": "markdown",
   "metadata": {
    "id": "FbnErvSyDVpy"
   },
   "source": [
    "# Errors\n",
    "\n",
    "By now, we have seen several pieces of code that have failed to run. In that case, Python does not only raise an error, but also specifies what exactly went wrong."
   ]
  },
  {
   "cell_type": "code",
   "execution_count": 46,
   "metadata": {
    "id": "eUwWGfAtC6_U"
   },
   "outputs": [
    {
     "name": "stdout",
     "output_type": "stream",
     "text": [
      "5\n"
     ]
    }
   ],
   "source": [
    "# A syntax error indicates that your code is not properly formatted:\n",
    "a = 2\n",
    "print(a+3)"
   ]
  },
  {
   "cell_type": "code",
   "execution_count": 47,
   "metadata": {
    "id": "xYzPnTf4DZM8"
   },
   "outputs": [
    {
     "ename": "TypeError",
     "evalue": "can only concatenate str (not \"int\") to str",
     "output_type": "error",
     "traceback": [
      "\u001b[0;31m---------------------------------------------------------------------------\u001b[0m",
      "\u001b[0;31mTypeError\u001b[0m                                 Traceback (most recent call last)",
      "Input \u001b[0;32mIn [47]\u001b[0m, in \u001b[0;36m<cell line: 3>\u001b[0;34m()\u001b[0m\n\u001b[1;32m      1\u001b[0m \u001b[38;5;66;03m# A type error indicates that a function received an input of the wrong type\u001b[39;00m\n\u001b[1;32m      2\u001b[0m a \u001b[38;5;241m=\u001b[39m \u001b[38;5;124m'\u001b[39m\u001b[38;5;124m2\u001b[39m\u001b[38;5;124m'\u001b[39m\n\u001b[0;32m----> 3\u001b[0m \u001b[38;5;28mprint\u001b[39m(\u001b[43ma\u001b[49m\u001b[38;5;241;43m+\u001b[39;49m\u001b[38;5;241;43m3\u001b[39;49m)\n",
      "\u001b[0;31mTypeError\u001b[0m: can only concatenate str (not \"int\") to str"
     ]
    }
   ],
   "source": [
    "# A type error indicates that a function received an input of the wrong type\n",
    "a = '2'\n",
    "print(a+3)"
   ]
  },
  {
   "cell_type": "code",
   "execution_count": 49,
   "metadata": {
    "id": "El-hKtbjDbHZ"
   },
   "outputs": [
    {
     "data": {
      "text/plain": [
       "3"
      ]
     },
     "execution_count": 49,
     "metadata": {},
     "output_type": "execute_result"
    }
   ],
   "source": [
    "# An index error suggests that it is not possible to index an object in the attempted way.\n",
    "a = [2, 3]\n",
    "a[1]"
   ]
  },
  {
   "cell_type": "markdown",
   "metadata": {
    "id": "i0z36NjgDfZB"
   },
   "source": [
    "You can return errors yourself using the command `raise`:"
   ]
  },
  {
   "cell_type": "code",
   "execution_count": 50,
   "metadata": {
    "id": "0OtPGaA9DdCC"
   },
   "outputs": [
    {
     "ename": "ValueError",
     "evalue": "a should not be three",
     "output_type": "error",
     "traceback": [
      "\u001b[0;31m---------------------------------------------------------------------------\u001b[0m",
      "\u001b[0;31mValueError\u001b[0m                                Traceback (most recent call last)",
      "Input \u001b[0;32mIn [50]\u001b[0m, in \u001b[0;36m<cell line: 2>\u001b[0;34m()\u001b[0m\n\u001b[1;32m      1\u001b[0m a \u001b[38;5;241m=\u001b[39m \u001b[38;5;241m3\u001b[39m\n\u001b[1;32m      2\u001b[0m \u001b[38;5;28;01mif\u001b[39;00m a \u001b[38;5;241m==\u001b[39m \u001b[38;5;241m3\u001b[39m:\n\u001b[0;32m----> 3\u001b[0m   \u001b[38;5;28;01mraise\u001b[39;00m \u001b[38;5;167;01mValueError\u001b[39;00m(\u001b[38;5;124m'\u001b[39m\u001b[38;5;124ma should not be three\u001b[39m\u001b[38;5;124m'\u001b[39m)\n",
      "\u001b[0;31mValueError\u001b[0m: a should not be three"
     ]
    }
   ],
   "source": [
    "a = 3\n",
    "if a == 3:\n",
    "  raise ValueError('a should not be three')"
   ]
  },
  {
   "cell_type": "markdown",
   "metadata": {
    "id": "ovw807R8Di9O"
   },
   "source": [
    "## Exercise\n",
    "Write a function `integer_add` that takes two arguments and adds them together. If either of the arguments are not integers, it should raise an error. What is the correct error for this issue?"
   ]
  },
  {
   "cell_type": "code",
   "execution_count": null,
   "metadata": {
    "id": "9NIAPPmyWBn1"
   },
   "outputs": [],
   "source": []
  },
  {
   "cell_type": "markdown",
   "metadata": {
    "id": "KZXg3FLODsMo"
   },
   "source": [
    "# Try / Except\n",
    "\n",
    "\n",
    "`try` tries the code in the `try` codeblock, and if it gives an error, runs code in an `except` code block. Best practice is to specify the errors you expect in the `except` statement so that you don't accidentally allow an unexpected error to go by unreported and unnoticed.\n",
    "\n",
    "For example, lets say that we want to count the number of occurrences of each letter in a given word -- for this example we will use abracadabra, but we want our code to work on any word.\n",
    "\n",
    "We might decide to do this using a dictionary where the keys are the letters and the values are the number of times that letter has occurred. We only want to have letters that do occur in the word as keys in our dictionary."
   ]
  },
  {
   "cell_type": "code",
   "execution_count": 51,
   "metadata": {
    "id": "sb6n1GccDrQw"
   },
   "outputs": [
    {
     "ename": "KeyError",
     "evalue": "'a'",
     "output_type": "error",
     "traceback": [
      "\u001b[0;31m---------------------------------------------------------------------------\u001b[0m",
      "\u001b[0;31mKeyError\u001b[0m                                  Traceback (most recent call last)",
      "Input \u001b[0;32mIn [51]\u001b[0m, in \u001b[0;36m<cell line: 4>\u001b[0;34m()\u001b[0m\n\u001b[1;32m      3\u001b[0m letter_counts \u001b[38;5;241m=\u001b[39m {}\n\u001b[1;32m      4\u001b[0m \u001b[38;5;28;01mfor\u001b[39;00m letter \u001b[38;5;129;01min\u001b[39;00m word: \u001b[38;5;66;03m# we can loop through strings like lists or tuples.\u001b[39;00m\n\u001b[0;32m----> 5\u001b[0m   letter_counts[letter]\u001b[38;5;241m+\u001b[39m\u001b[38;5;241m=\u001b[39m\u001b[38;5;241m1\u001b[39m \u001b[38;5;66;03m# add one to the value at key letter\u001b[39;00m\n\u001b[1;32m      6\u001b[0m letter_counts\n",
      "\u001b[0;31mKeyError\u001b[0m: 'a'"
     ]
    }
   ],
   "source": [
    "word = \"abracadabra\"\n",
    "\n",
    "letter_counts = {}\n",
    "for letter in word: # we can loop through strings like lists or tuples.\n",
    "  letter_counts[letter]+=1 # add one to the value at key letter\n",
    "letter_counts"
   ]
  },
  {
   "cell_type": "code",
   "execution_count": 52,
   "metadata": {
    "id": "DeM2_CZ5Dx-m"
   },
   "outputs": [
    {
     "name": "stdout",
     "output_type": "stream",
     "text": [
      "{'a': 5, 'b': 2, 'r': 2, 'c': 1, 'd': 1}\n"
     ]
    }
   ],
   "source": [
    "word = \"abracadabra\"\n",
    "\n",
    "\n",
    "letter_counts = {}\n",
    "for letter in word:\n",
    "  try:\n",
    "    letter_counts[letter]+=1\n",
    "  except KeyError: # we specify the type of error we expect here\n",
    "    letter_counts[letter] = 1\n",
    "\n",
    "print(letter_counts)"
   ]
  },
  {
   "cell_type": "markdown",
   "metadata": {
    "id": "-Kd8oB-cD2vz"
   },
   "source": [
    "See below for why it is important to specify the type of error you expect. Since we specified the type of error we expected and got a different error, we still find out that there is an error, and can take precautions to make sure we don't, for example, overwrite important info."
   ]
  },
  {
   "cell_type": "code",
   "execution_count": 53,
   "metadata": {
    "id": "qNpBOmraD0Y5"
   },
   "outputs": [
    {
     "ename": "TypeError",
     "evalue": "can only concatenate str (not \"int\") to str",
     "output_type": "error",
     "traceback": [
      "\u001b[0;31m---------------------------------------------------------------------------\u001b[0m",
      "\u001b[0;31mTypeError\u001b[0m                                 Traceback (most recent call last)",
      "Input \u001b[0;32mIn [53]\u001b[0m, in \u001b[0;36m<cell line: 6>\u001b[0;34m()\u001b[0m\n\u001b[1;32m      6\u001b[0m \u001b[38;5;28;01mfor\u001b[39;00m letter \u001b[38;5;129;01min\u001b[39;00m word:\n\u001b[1;32m      7\u001b[0m   \u001b[38;5;28;01mtry\u001b[39;00m:\n\u001b[0;32m----> 8\u001b[0m     letter_counts[letter]\u001b[38;5;241m+\u001b[39m\u001b[38;5;241m=\u001b[39m\u001b[38;5;241m1\u001b[39m\n\u001b[1;32m      9\u001b[0m   \u001b[38;5;28;01mexcept\u001b[39;00m \u001b[38;5;167;01mKeyError\u001b[39;00m: \u001b[38;5;66;03m# we specify the type of error we expect here\u001b[39;00m\n\u001b[1;32m     10\u001b[0m     letter_counts[letter] \u001b[38;5;241m=\u001b[39m \u001b[38;5;241m1\u001b[39m\n",
      "\u001b[0;31mTypeError\u001b[0m: can only concatenate str (not \"int\") to str"
     ]
    }
   ],
   "source": [
    "word = \"abracadabra\"\n",
    "\n",
    "\n",
    "letter_counts = {}\n",
    "letter_counts['a'] = \"important info that should not be overwritten\" # something unexpected as a value\n",
    "for letter in word:\n",
    "  try:\n",
    "    letter_counts[letter]+=1\n",
    "  except KeyError: # we specify the type of error we expect here\n",
    "    letter_counts[letter] = 1\n",
    "\n",
    "print(letter_counts)"
   ]
  },
  {
   "cell_type": "markdown",
   "metadata": {
    "id": "tYhdSCHzD9F5"
   },
   "source": [
    "What happens if you do not specify KeyError after `except` and just write `except:`?\n",
    "\n",
    "Try modifying below."
   ]
  },
  {
   "cell_type": "code",
   "execution_count": 54,
   "metadata": {
    "id": "Yymh343wD6kT"
   },
   "outputs": [
    {
     "name": "stdout",
     "output_type": "stream",
     "text": [
      "I found an error\n",
      "I found an error\n",
      "I found an error\n",
      "I found an error\n",
      "I found an error\n",
      "{'a': 5, 'b': 2, 'r': 2, 'c': 1, 'd': 1}\n"
     ]
    }
   ],
   "source": [
    "word = \"abracadabra\"\n",
    "\n",
    "\n",
    "letter_counts = {}\n",
    "letter_counts['a'] = \"important info that should not be overwritten\" # something unexpected as a value\n",
    "for letter in word:\n",
    "  try:\n",
    "    letter_counts[letter]+=1\n",
    "  except: # we specify the type of error we expect here\n",
    "    print('I found an error')\n",
    "    letter_counts[letter] = 1\n",
    "\n",
    "print(letter_counts)"
   ]
  },
  {
   "cell_type": "markdown",
   "metadata": {
    "id": "LLj8zyJEEGFy"
   },
   "source": [
    "### Exercise:\n",
    "Use try/except to write code that takes numbers a and b and prints a/b. If it gets an error (for example b is 0), it should instead print \"Cannot divide by zero\". Try your code with a few different choices of a and b to make sure it works correctly."
   ]
  },
  {
   "cell_type": "code",
   "execution_count": null,
   "metadata": {
    "id": "2WHXtuSiEDvU"
   },
   "outputs": [],
   "source": []
  }
 ],
 "metadata": {
  "colab": {
   "provenance": []
  },
  "kernelspec": {
   "display_name": "Python 3 (ipykernel)",
   "language": "python",
   "name": "python3"
  },
  "language_info": {
   "codemirror_mode": {
    "name": "ipython",
    "version": 3
   },
   "file_extension": ".py",
   "mimetype": "text/x-python",
   "name": "python",
   "nbconvert_exporter": "python",
   "pygments_lexer": "ipython3",
   "version": "3.9.12"
  }
 },
 "nbformat": 4,
 "nbformat_minor": 1
}
